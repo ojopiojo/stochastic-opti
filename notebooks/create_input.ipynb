{
 "cells": [
  {
   "cell_type": "code",
   "execution_count": 40,
   "id": "initial_id",
   "metadata": {
    "collapsed": true,
    "ExecuteTime": {
     "end_time": "2023-12-08T00:23:39.852316Z",
     "start_time": "2023-12-08T00:23:39.847431Z"
    }
   },
   "outputs": [],
   "source": [
    "import pandas as pd\n",
    "from datetime import datetime, timedelta"
   ]
  },
  {
   "cell_type": "code",
   "execution_count": 41,
   "outputs": [],
   "source": [
    "base_date = datetime(year = 2024, month = 1, day = 1)"
   ],
   "metadata": {
    "collapsed": false,
    "ExecuteTime": {
     "end_time": "2023-12-08T00:23:39.974391Z",
     "start_time": "2023-12-08T00:23:39.971827Z"
    }
   },
   "id": "311f22a49ea8f71"
  },
  {
   "cell_type": "code",
   "execution_count": 42,
   "outputs": [],
   "source": [
    "tasks_df = pd.DataFrame([\n",
    "    {\n",
    "        'name': 'task_1',\n",
    "        'delay_probability': 0.5,\n",
    "        'base_duration': 2,\n",
    "        'delayed_duration': 10,\n",
    "        'target_date': base_date + timedelta(days = 0),\n",
    "        'early_penalty': 1,\n",
    "        'late_penalty': 3,\n",
    "        'required_capabilities': 'Basic'\n",
    "    },\n",
    "    {\n",
    "        'name': 'task_2',\n",
    "        'delay_probability': 0.1,\n",
    "        'base_duration': 4,\n",
    "        'delayed_duration': 6,\n",
    "        'target_date': base_date + timedelta(days = 0),\n",
    "        'early_penalty': 1,\n",
    "        'late_penalty': 3,\n",
    "        'required_capabilities': 'Basic'\n",
    "    },\n",
    "    {\n",
    "        'name': 'task_2',\n",
    "        'delay_probability': 0.1,\n",
    "        'base_duration': 4,\n",
    "        'delayed_duration': 6,\n",
    "        'target_date': base_date + timedelta(days = 2),\n",
    "        'early_penalty': 1,\n",
    "        'late_penalty': 3,\n",
    "        'required_capabilities': 'Basic'\n",
    "    },\n",
    "])\n",
    "tasks_df.to_csv('../input/basic_tasks.csv', index=False)"
   ],
   "metadata": {
    "collapsed": false,
    "ExecuteTime": {
     "end_time": "2023-12-08T00:23:40.112523Z",
     "start_time": "2023-12-08T00:23:40.107539Z"
    }
   },
   "id": "cc7c07e860a58a6d"
  },
  {
   "cell_type": "code",
   "execution_count": 43,
   "outputs": [],
   "source": [
    "machines_df = pd.DataFrame([\n",
    "    {\n",
    "        'name': 'basic machine 1',\n",
    "        'capabilities': 'Basic'\n",
    "    },\n",
    "    {\n",
    "        'name': 'basic_machine 2',\n",
    "        'capabilities': 'Basic'\n",
    "    },\n",
    "])\n",
    "\n",
    "machines_df.to_csv('../input/basic_machines.csv', index=False)"
   ],
   "metadata": {
    "collapsed": false,
    "ExecuteTime": {
     "end_time": "2023-12-08T00:23:40.252741Z",
     "start_time": "2023-12-08T00:23:40.246122Z"
    }
   },
   "id": "ac4899e644d548aa"
  },
  {
   "cell_type": "code",
   "execution_count": 43,
   "outputs": [],
   "source": [],
   "metadata": {
    "collapsed": false,
    "ExecuteTime": {
     "end_time": "2023-12-08T00:23:40.366588Z",
     "start_time": "2023-12-08T00:23:40.365039Z"
    }
   },
   "id": "96665c9b63e4014e"
  }
 ],
 "metadata": {
  "kernelspec": {
   "display_name": "Python 3",
   "language": "python",
   "name": "python3"
  },
  "language_info": {
   "codemirror_mode": {
    "name": "ipython",
    "version": 2
   },
   "file_extension": ".py",
   "mimetype": "text/x-python",
   "name": "python",
   "nbconvert_exporter": "python",
   "pygments_lexer": "ipython2",
   "version": "2.7.6"
  }
 },
 "nbformat": 4,
 "nbformat_minor": 5
}
